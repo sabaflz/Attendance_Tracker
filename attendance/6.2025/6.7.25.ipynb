{
 "cells": [
  {
   "cell_type": "markdown",
   "metadata": {},
   "source": [
    "# 6.7.25 (6:30 - 10:00)\n",
    "\n",
    "## LeetCode Weekly Contest\n",
    "### (Weekly Contest 453)\n",
    "\n",
    "Most completed Q1 and Q2.\n",
    "\n",
    "List of questions:\n",
    "1. 3576. Transform Array to All Equal Elements\n",
    "2. 3577. Count the Number of Computer Unlocking Permutations\n",
    "3. 3578. Count Partitions With Max-Min Difference at Most K\n",
    "4. 3579. Minimum Steps to Convert String with Operations\n",
    "\n",
    "Members:\n",
    "* Charles\n",
    "* Saba\n",
    "* Aayush\n",
    "* Akiko\n",
    "* Tyler\n",
    "* Inky\n",
    "* Sayon\n",
    "* Begench\n",
    "* Oak\n",
    "* Bruce\n",
    "* Dijkstra"
   ]
  },
  {
   "cell_type": "markdown",
   "metadata": {},
   "source": [
    "## :mega: Club LeetCode Contest & Social @Active Member  !!\n",
    "Hey everyone!\n",
    "\n",
    "Our seventh Club LeetCode Contest and Social is here! :tada:\n",
    "This is a fun, casual event where we get together, hang out, eat good food, and do a chill LeetCode contest as a club.\n",
    "\n",
    ":calendar_spiral: Date: Saturday, June 7th\n",
    ":clock6: Time: **6:30 – 10:00+ **\n",
    ":round_pushpin: Location: [Tasty Pizza (21000 Stevens Creek Blvd #200, Cupertino, CA 95014)](https://maps.app.goo.gl/CqnhXtMscZwYHnvx9)\n",
    "\n",
    "### The plan:\n",
    "- Dinner at Pizza My Heart.  :pizza:\n",
    "- Do a LeetCode contest and problem reviews. :computer:\n",
    "- Go to 946 billiards to have some fun! :8ball:\n",
    "\n",
    "Whether you're here to compete or just hang out and vibe with the club, we'd love to see you there. All skill levels are welcome!\n",
    "\n",
    "Feel free to have dinner beforehand, but the LeetCode contest itself starts at **7:30 PM**, so definitely show up before then!\n",
    "\n",
    "### Transportation:\n",
    "If you need a carpool, please meet up at the **Flint Parking Garage, 3rd floor, between 6:00 and 6:15**.\n",
    "\n",
    "To help us have an accurate head count, respond with:\n",
    "* :computer: = I’m coming!\n",
    "* :red_car: = I need/want a carpool\n",
    "* :first_place: = I can drive for carpool\n",
    "\n",
    "Feel free to ping me in #general for any questions!"
   ]
  }
 ],
 "metadata": {
  "language_info": {
   "name": "python"
  }
 },
 "nbformat": 4,
 "nbformat_minor": 2
}
