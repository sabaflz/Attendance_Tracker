{
 "cells": [
  {
   "cell_type": "markdown",
   "metadata": {},
   "source": [
    "# 6.3.25 (11:00 - 13:00)\n",
    "## Club Meeting\n",
    "### Topics: \n",
    "\n",
    "For beginners:\n",
    "* Modular Exponentiation\n",
    "\n",
    "For more advanced:\n",
    "* LeetCode Daily\n",
    "\n",
    "Members:\n",
    "* Charles\n",
    "* Saba\n",
    "* Ben\n",
    "* Ferit\n",
    "* Oak\n",
    "* Dijkstra\n"
   ]
  },
  {
   "cell_type": "markdown",
   "metadata": {},
   "source": []
  }
 ],
 "metadata": {
  "language_info": {
   "name": "python"
  }
 },
 "nbformat": 4,
 "nbformat_minor": 2
}
