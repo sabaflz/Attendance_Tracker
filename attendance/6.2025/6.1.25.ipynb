{
 "cells": [
  {
   "cell_type": "markdown",
   "metadata": {},
   "source": [
    "# 6.1.25 (3:00 - 5:00)\n",
    "## Club Meeting\n",
    "### Topics: \n",
    "\n",
    "For beginners:\n",
    "* Modular Exponentiation\n",
    "\n",
    "For more advanced:\n",
    "* LeetCode Daily\n",
    "\n",
    "Members:\n",
    "* Charles\n",
    "* Saba\n",
    "* Aayush\n",
    "* Alice\n",
    "* Anna\n",
    "* Oak\n",
    "* Sayon\n",
    "* Emily\n",
    "* Hamza\n",
    "* Harrison\n",
    "* Bruce\n",
    "* Dijkstra\n"
   ]
  }
 ],
 "metadata": {
  "language_info": {
   "name": "python"
  }
 },
 "nbformat": 4,
 "nbformat_minor": 2
}
