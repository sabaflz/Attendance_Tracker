{
 "cells": [
  {
   "cell_type": "markdown",
   "metadata": {},
   "source": [
    "# 6.4.25 (3:00 - 5:00)\n",
    "## Club Meeting\n",
    "### Topics: \n",
    "\n",
    "For beginners:\n",
    "* Review Modular Exponentiation\n",
    "* review of bit manipulation\n",
    "* review of recursive vs iterative\n",
    "\n",
    "For more advanced:\n",
    "* LeetCode Daily\n",
    "* Modular Exponentiation with Matrices\n",
    "\n",
    "Members:\n",
    "* Charles\n",
    "* Saba\n",
    "* Aayush\n",
    "* Tyler\n",
    "* Aaron\n",
    "* Julia\n",
    "* Oak\n",
    "* Sayon\n",
    "* Alice\n",
    "* Inky\n",
    "* Ferit\n",
    "* Bruce\n",
    "* Dijkstra\n"
   ]
  },
  {
   "cell_type": "markdown",
   "metadata": {},
   "source": []
  }
 ],
 "metadata": {
  "language_info": {
   "name": "python"
  }
 },
 "nbformat": 4,
 "nbformat_minor": 2
}
