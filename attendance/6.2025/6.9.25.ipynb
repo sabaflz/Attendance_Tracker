{
 "cells": [
  {
   "cell_type": "markdown",
   "metadata": {},
   "source": [
    "# 6.9.25 (3:00 - 5:00)\n",
    "## Club Meeting\n",
    "### Topics: \n",
    "\n",
    "For beginners:\n",
    "* Review of basic programming\n",
    "\n",
    "For more advanced:\n",
    "* Roller Hash\n",
    "* (M, P) = 1 (have to be prime and co-prime)\n",
    "* reverse modular ... \n",
    "\n",
    "Members:\n",
    "* Charles\n",
    "* Saba\n",
    "* Aayush\n",
    "* Akiko\n",
    "* Dijkstra\n"
   ]
  },
  {
   "cell_type": "markdown",
   "metadata": {},
   "source": []
  }
 ],
 "metadata": {
  "language_info": {
   "name": "python"
  }
 },
 "nbformat": 4,
 "nbformat_minor": 2
}
