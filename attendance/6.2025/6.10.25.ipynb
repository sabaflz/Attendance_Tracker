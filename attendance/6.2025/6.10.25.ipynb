{
 "cells": [
  {
   "cell_type": "markdown",
   "metadata": {},
   "source": [
    "# 6.10.25 (11:00 - 13:00)\n",
    "## Club Meeting\n",
    "### Topics: \n",
    "\n",
    "For more advanced:\n",
    "* Review of Hash Rolling\n",
    "* Review of gcd and sparse arrays\n",
    "\n",
    "Members:\n",
    "* Charles\n",
    "* Saba\n",
    "* Tyler\n",
    "* Ferit\n",
    "* Akiko\n",
    "* Ben\n"
   ]
  },
  {
   "cell_type": "markdown",
   "metadata": {},
   "source": []
  }
 ],
 "metadata": {
  "language_info": {
   "name": "python"
  }
 },
 "nbformat": 4,
 "nbformat_minor": 2
}
