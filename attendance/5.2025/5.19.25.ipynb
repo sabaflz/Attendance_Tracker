{
 "cells": [
  {
   "cell_type": "markdown",
   "metadata": {},
   "source": [
    "# 5.19.25 (3:00 - 5:15)\n",
    "\n",
    "## Club Meeting\n",
    "\n",
    "### Topics:\n",
    "\n",
    "For beginners:\n",
    "* Introduction to trees\n",
    "* DFS/BFS\n",
    "* LCA and Weighted LCA\n",
    "* [100. Same Tree](https://leetcode.com/problems/same-tree/description/)\n",
    "\n",
    "For more advanced:\n",
    "* Binary Jump (Binary Lift)\n",
    "* [LCA on codeforces](https://codeforces.com/blog/entry/43917)\n",
    "\n",
    "\n",
    "\n",
    "Next Meeting:\n",
    "* FLoyed Warshall\n",
    "* Topological Sort\n",
    "* CSES Trees\n",
    "\n",
    "\n",
    "Members:\n",
    "* Charles\n",
    "* Saba\n",
    "* Aayush \n",
    "* Akiko\n",
    "* Alice\n",
    "* Anna\n",
    "* Sayon\n",
    "* Emily\n",
    "* Riwa\n",
    "* Harrison\n",
    "* Bruce\n",
    "\n"
   ]
  },
  {
   "cell_type": "markdown",
   "metadata": {},
   "source": []
  }
 ],
 "metadata": {
  "language_info": {
   "name": "python"
  }
 },
 "nbformat": 4,
 "nbformat_minor": 2
}
