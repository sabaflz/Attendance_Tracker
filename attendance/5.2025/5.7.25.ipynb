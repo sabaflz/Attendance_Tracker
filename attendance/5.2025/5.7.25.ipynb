{
 "cells": [
  {
   "cell_type": "markdown",
   "metadata": {},
   "source": [
    "# 5.7.25 (3:00 - 6:00)\n",
    "\n",
    "## Club Meeting (3:15 - 3:45)\n",
    "\n",
    "### Topics:\n",
    "Everyone worked on their own thing.\n",
    "\n",
    "Members:\n",
    "* Charles\n",
    "* Saba\n",
    "* Louis\n",
    "* Alice\n",
    "* Anna\n",
    "* Kijun\n",
    "\n",
    "\n",
    "## Speaker Event (4:05 - 5:30)\n",
    "Speaker: Shahin Saadati\n",
    "### Topics:\n",
    "* How to build a strong and effective resume\n",
    "* What top companies like Google look for in resumes\n",
    "* Internship opportunities at Google and how to apply\n",
    "* Live feedback for students who bring their resumes (as many as we have time for)\n",
    "* Open Q&A: Ask questions about resumes, interviews, and career prep\n",
    "\n",
    "* Answering the following questions:\n",
    "    * What are the biggest mistakes you see on resumes that candidates send to Google?\n",
    "    * What’s the best way to write bullet points that stand out?\n",
    "    * Is there anything that makes a resume instantly more memorable to you or a hiring manager?\n",
    "    * Do companies like Google value personal projects or open-source contributions as much as internships?\n",
    "    * What are some qualities that Google specifically looks for in a resume?\n",
    "    * How can students showcase “Googleyness” or culture fit through a resume or application?\n",
    "    * What are some buzzwords to avoid on a resume?\n",
    "    * What’s something you wish more students knew when applying to top companies?\n",
    "\n",
    "* [Google Docs (Summary of the session)](https://docs.google.com/document/d/1o5foCzwasYQgK4YQGdNxz37oq8yRFIoJvZxdn7ArMck/edit?usp=sharing)\n",
    "\n",
    "* [The Google website for Interships and Resources](https://buildyourfuture.withgoogle.com/)\n",
    "\n",
    "* [Pictures](https://discord.com/channels/1325580479625302098/1364790883974778961/1370083404858789960)"
   ]
  },
  {
   "cell_type": "markdown",
   "metadata": {},
   "source": []
  },
  {
   "cell_type": "markdown",
   "metadata": {},
   "source": [
    "# 5.7.25 (4:00 - 5:00)\n",
    "Speaker: Shahin Saadati\n",
    "### Today's Topics (Speaker Event)\n",
    "* How to build a strong and effective resume\n",
    "* What top companies like Google look for in resumes\n",
    "* Internship opportunities at Google and how to apply\n",
    "* Live feedback for students who bring their resumes (as many as we have time for)\n",
    "* Open Q&A: Ask questions about resumes, interviews, and career prep\n"
   ]
  },
  {
   "cell_type": "markdown",
   "metadata": {},
   "source": []
  }
 ],
 "metadata": {
  "language_info": {
   "name": "python"
  }
 },
 "nbformat": 4,
 "nbformat_minor": 2
}
