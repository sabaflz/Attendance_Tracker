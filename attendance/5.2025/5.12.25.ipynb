{
 "cells": [
  {
   "cell_type": "markdown",
   "metadata": {},
   "source": [
    "# 5.12.25 (3:00 - 5:00)\n",
    "\n",
    "## Club Meeting\n",
    "\n",
    "### Topics:\n",
    "\n",
    "For beginners:\n",
    "* [338. Counting Bits](https://leetcode.com/problems/counting-bits/description/)\n",
    "\n",
    "Officers:\n",
    "We had a mini meeting about working on the roadmap, making it cleaner and more specific.\n",
    "We had a second meeting about funding. (Request for $100 a week for food)\n",
    "\n",
    "Note for future LeetCode weekly contests:\n",
    "- Keep all the receipts\n",
    "\n",
    "\n",
    "Members:\n",
    "* Charles\n",
    "* Saba\n",
    "* Akiko\n",
    "* Chrissy\n",
    "* Louis\n",
    "* Aayush\n",
    "* Anna\n",
    "* Jaden\n",
    "* Sayon\n",
    "* Bruce\n",
    "* TBD : )"
   ]
  },
  {
   "cell_type": "markdown",
   "metadata": {},
   "source": []
  }
 ],
 "metadata": {
  "language_info": {
   "name": "python"
  }
 },
 "nbformat": 4,
 "nbformat_minor": 2
}
