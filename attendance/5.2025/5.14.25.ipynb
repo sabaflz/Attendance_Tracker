{
 "cells": [
  {
   "cell_type": "markdown",
   "metadata": {},
   "source": [
    "# 5.14.25 (3:00 - 5:45)\n",
    "\n",
    "## Club Meeting\n",
    "\n",
    "### Topics:\n",
    "\n",
    "For beginners:\n",
    "* They worked on learning some syntax on their own.\n",
    "\n",
    "For more advanced:\n",
    "* DP problems on CSES.\n",
    "* Worked on LeetCode daily. Had to use matrix multiplication for this one!\n",
    "* Review of Exponentiation by Squaring (Binary Exponentiation).\n",
    "\n",
    "Honorable mentions:\n",
    "* Talked about DAHacks 3.5 a little bit\n",
    "* Most learned the Persian snap, LOL\n",
    "\n",
    "\n",
    "Members:\n",
    "* Charles\n",
    "* Saba\n",
    "* Aayush\n",
    "* Alice\n",
    "* Anna\n",
    "* Ben\n",
    "* Louis\n",
    "* Oak\n",
    "* Bruce\n",
    "* Ferit"
   ]
  },
  {
   "cell_type": "markdown",
   "metadata": {},
   "source": []
  }
 ],
 "metadata": {
  "language_info": {
   "name": "python"
  }
 },
 "nbformat": 4,
 "nbformat_minor": 2
}
