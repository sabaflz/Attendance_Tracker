{
 "cells": [
  {
   "cell_type": "markdown",
   "metadata": {},
   "source": [
    "# 5.24.25 (6:30 - 10:00)\n",
    "\n",
    "## LeetCode Weekly Contest\n",
    "### (Weekly Contest 451)\n",
    "\n",
    "Most completed Q1 and Q2.\n",
    "\n",
    "\n",
    "List of questions:\n",
    "1. 3560. Find Minimum Log Transportation Cost\n",
    "2. 3561. Resulting String After Adjacent Removals\n",
    "3. 3562. Maximum Profit from Trading Stocks with Discounts\n",
    "4. 3563. Lexicographically Smallest String After Adjacent Removals\n",
    "\n",
    "\n",
    "Members:\n",
    "* Saba\n",
    "* Sayon\n",
    "* Tyler\n",
    "* Aayush\n",
    "\n"
   ]
  },
  {
   "cell_type": "markdown",
   "metadata": {},
   "source": [
    "## :mega: Club LeetCode Contest & Social @Active Member  !!\n",
    "Hey everyone!\n",
    "\n",
    "It’s time for our fifth Club LeetCode Contest and Social! :tada:\n",
    "This is a fun, casual event where we get together, hang out, eat good food, and do a chill LeetCode contest as a club.\n",
    "\n",
    ":calendar_spiral: Date: Saturday, May 24th\n",
    ":clock6: Time: **6:30 – 10:00+ **\n",
    ":round_pushpin: Location: [Coffee Lovers (1696 Tully Rd, San Jose, CA 95122)](https://maps.app.goo.gl/k3ZoBUPpgCG5Pue36)\n",
    "\n",
    "### The plan:\n",
    "- Dinner at Coffee Lovers.  :ramen:\n",
    "- Do a LeetCode contest and problem reviews. :computer:\n",
    "- Potentially go to 946 billiards to have some fun! :8ball:\n",
    "\n",
    "Whether you're here to compete or just hang out and vibe with the club, we'd love to see you there. All skill levels are welcome!\n",
    "\n",
    "Feel free to have dinner beforehand, but the LeetCode contest itself starts at **7:30 PM**, so definitely show up before then!\n",
    "\n",
    "### Transportation:\n",
    "If you need a carpool, please meet up at the **Flint Parking Garage, 3rd floor, between 6:00 and 6:15**.\n",
    "\n",
    "To help us have an accurate head count, respond with:\n",
    "* :computer: = I’m coming!\n",
    "* :red_car: = I need/want a carpool\n",
    "* :first_place: = I can drive for carpool\n",
    "\n",
    "Feel free to ping me in #general for any questions!"
   ]
  }
 ],
 "metadata": {
  "language_info": {
   "name": "python"
  }
 },
 "nbformat": 4,
 "nbformat_minor": 2
}
