{
 "cells": [
  {
   "cell_type": "markdown",
   "metadata": {},
   "source": [
    "# 5.6.25 (11:00 - 13:00)\n",
    "\n",
    "## Club Meeting\n",
    "\n",
    "### Topics:\n",
    "Dynamic Programming\n",
    "(Everyone in this meeting was absent yesterday, so today was a review of DP)\n",
    "\n",
    "Members:\n",
    "* Charles\n",
    "* Saba\n",
    "* Salvador\n",
    "* Suhaib\n",
    "* Kijun\n",
    "* Bruce\n",
    "* Ferit\n",
    "* Shafagh\n",
    "* Akiko\n",
    "* Sayon\n",
    "* Harrison\n",
    "* TBD : )"
   ]
  },
  {
   "cell_type": "markdown",
   "metadata": {},
   "source": []
  }
 ],
 "metadata": {
  "language_info": {
   "name": "python"
  }
 },
 "nbformat": 4,
 "nbformat_minor": 2
}
