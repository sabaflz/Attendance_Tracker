{
 "cells": [
  {
   "cell_type": "markdown",
   "metadata": {},
   "source": [
    "# 5.20.25 (11:00 - 13:00)\n",
    "\n",
    "## Club Meeting\n",
    "\n",
    "### Topics: \n",
    "\n",
    "For beginners:\n",
    "* [100. Same Tree](https://leetcode.com/problems/same-tree/description/)\n",
    "\n",
    "For more advanced:\n",
    "* Tried to solve [LCA on codeforces](https://codeforces.com/blog/entry/43917)\n",
    "* Started CSES trees\n",
    "\n",
    "\n",
    "\n",
    "Next Meeting:\n",
    "* Floyed Warshall\n",
    "* Topological Sort\n",
    "* CSES Trees\n",
    "\n",
    "\n",
    "Members:\n",
    "* Charles\n",
    "* Saba\n",
    "* Ferit\n",
    "* Suhaib\n",
    "* Akiko\n"
   ]
  }
 ],
 "metadata": {
  "language_info": {
   "name": "python"
  }
 },
 "nbformat": 4,
 "nbformat_minor": 2
}
