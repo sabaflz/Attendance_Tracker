{
 "cells": [
  {
   "cell_type": "markdown",
   "metadata": {},
   "source": [
    "# 5.10.25 (6:30 - 10:00)\n",
    "\n",
    "## LeetCode Weekly Contest\n",
    "### (Weekly Contest 449)\n",
    "\n",
    "Most completed Q1 and Q2.\n",
    "Akiko and Charles solved Q3 as well!\n",
    "\n",
    "List of questions:\n",
    "1. 3545. Minimum Deletions for At Most K Distinct Characters\n",
    "2. 3546. Equal Sum Grid Partition I\n",
    "3. 3547. Maximum Sum of Edge Values in a Graph\n",
    "4. 3548. Equal Sum Grid Partition II\n",
    "\n",
    "\n",
    "Notes for the next contest:\n",
    "* Notify everyone earlier (latest on Fridays)\n",
    "\n",
    "Members:\n",
    "* Charles\n",
    "* Saba\n",
    "* Akiko\n",
    "* Tyler\n",
    "* Aayush\n",
    "* Ferit\n",
    "* Alice\n",
    "* Buyan\n",
    "* Begench\n",
    "* TBD : )\n",
    "\n",
    "Honorable mentions:\n",
    "* Celony Mire also did the contest (ranked 370)"
   ]
  },
  {
   "cell_type": "markdown",
   "metadata": {},
   "source": [
    "Guild House:\n",
    "Poker\n",
    "Fun Employed\n",
    "Chess\n"
   ]
  }
 ],
 "metadata": {
  "language_info": {
   "name": "python"
  }
 },
 "nbformat": 4,
 "nbformat_minor": 2
}
