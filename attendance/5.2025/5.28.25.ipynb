{
 "cells": [
  {
   "cell_type": "markdown",
   "metadata": {},
   "source": [
    "# 5.28.25 (3:00 - 5:15)\n",
    "## Club Meeting\n",
    "### Topics: \n",
    "\n",
    "For beginners:\n",
    "* Review of trees, dfs, and bfs\n",
    "* Tree traverdsals (Preorder, Inorder, Postorder)\n",
    "\n",
    "For more advanced:\n",
    "* Review prefix sum, least significant bit: (s & -s)\n",
    "* Segment trees\n",
    "* binary index trees (BIT): (AKA, Fenwick Trees)\n",
    "\n",
    "Next Meeting:\n",
    "* Floyd Warshall\n",
    "* Topological Sort\n",
    "\n",
    "Notes for future meetings:\n",
    "* prims\n",
    "* union finds\n",
    "* kruskal\n",
    "\n",
    "Members:\n",
    "* Charles\n",
    "* Saba\n",
    "* Dijkstra\n",
    "* Bharath\n",
    "* Alice\n",
    "* Aayush\n",
    "* Htet Htoo\n",
    "* Ferit\n",
    "* Dan\n",
    "* Chrissy\n",
    "* Sayon\n",
    "* Tyler\n",
    "* Bruce\n"
   ]
  },
  {
   "cell_type": "markdown",
   "metadata": {},
   "source": [
    "@Active Member \n",
    "Today’s club meeting will start at 3:00 PM in ATC 312.\n",
    "\n",
    "See you there!"
   ]
  },
  {
   "cell_type": "markdown",
   "metadata": {},
   "source": [
    "beginners\n",
    "Trees , dfs, bfs and traverdsals\n",
    "binary search tree, balance binary search tree ,\n",
    "prefix sum\n",
    "\n",
    "advanced:\n",
    "segment trees\n",
    "binary index trees (BIT) (AKA, Fenwickk Trees)\n",
    "\n",
    "least significant bit: (s & -s)"
   ]
  },
  {
   "cell_type": "markdown",
   "metadata": {},
   "source": [
    "1. "
   ]
  }
 ],
 "metadata": {
  "language_info": {
   "name": "python"
  }
 },
 "nbformat": 4,
 "nbformat_minor": 2
}
