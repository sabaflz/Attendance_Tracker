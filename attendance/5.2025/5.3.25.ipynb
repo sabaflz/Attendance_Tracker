{
 "cells": [
  {
   "cell_type": "markdown",
   "metadata": {},
   "source": [
    "# 5.3.25 (7:00 - 10:00)\n",
    "\n",
    "## LeetCode Weekly Contest\n",
    "### (Weekly Contest 448)\n",
    "\n",
    "Everyone completed Q1 and Q2.\n",
    "\n",
    "List of questions:\n",
    "1. 3536. Maximum Product of Two Digits\n",
    "2. 3537. Fill a Special Grid\n",
    "3. 3538. Merge Operations for Minimum Travel Time\n",
    "4. 3539. Find Sum of Array Product of Magical Sequences\n",
    "\n",
    "\n",
    "Notes for the next contest:\n",
    "* Notify everyone earlier (maybe on Fridays)\n",
    "\n",
    "Members:\n",
    "* Charles\n",
    "* Saba\n",
    "* Akiko\n",
    "* Buyan\n",
    "\n",
    "Honorable mentions:\n",
    "* Chrissy joined us after the contest : )"
   ]
  },
  {
   "cell_type": "markdown",
   "metadata": {},
   "source": []
  }
 ],
 "metadata": {
  "language_info": {
   "name": "python"
  }
 },
 "nbformat": 4,
 "nbformat_minor": 2
}
