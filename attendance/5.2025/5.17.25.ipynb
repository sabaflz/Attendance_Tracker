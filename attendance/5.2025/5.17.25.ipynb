{
 "cells": [
  {
   "cell_type": "markdown",
   "metadata": {},
   "source": [
    "# 5.17.25 (6:30 - 10:00)\n",
    "\n",
    "## LeetCode Weekly Contest\n",
    "### (Weekly Contest 450)\n",
    "\n",
    "Most completed Q1 and Q2.\n",
    "Akiko solved Q3.\n",
    "\n",
    "List of questions:\n",
    "1. 3550. Smallest Index With Digit Sum Equal to Index\n",
    "2. 3551. Minimum Swaps to Sort by Digit Sum\n",
    "3. 3552. Grid Teleportation Traversal\n",
    "4. 3553. Minimum Weighted Subgraph With the Required Paths II\n",
    "\n",
    "\n",
    "Members:\n",
    "* Saba\n",
    "* Aayush\n",
    "* Akiko\n",
    "* Alice\n",
    "* Ben\n",
    "* Aarnav\n",
    "* Akiko\n",
    "* Sayon\n",
    "* Tyler\n",
    "* Bruce\n",
    "* Ferit"
   ]
  },
  {
   "cell_type": "markdown",
   "metadata": {},
   "source": [
    "Billiards\n"
   ]
  }
 ],
 "metadata": {
  "language_info": {
   "name": "python"
  }
 },
 "nbformat": 4,
 "nbformat_minor": 2
}
