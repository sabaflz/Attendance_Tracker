{
 "cells": [
  {
   "cell_type": "markdown",
   "metadata": {},
   "source": [
    "# 5.5.25 (3:00 - 5:30)\n",
    "\n",
    "## Club Meeting\n",
    "\n",
    "### Topics:\n",
    "Dynamic Programming\n",
    "(A technique used to optimize recursive solutions\n",
    "when same subproblems are called multiple times)\n",
    "\n",
    "For beginners:\n",
    "* Fibonacci sequence O(n) and [70. Climbing Stairs](https://leetcode.com/problems/climbing-stairs/description/)\n",
    "\n",
    "For more advanced:\n",
    "* Implement Fibonacci in O(logn)\n",
    "* Leetcode Daily: 790. Domino and Tromino Tiling\n",
    "\n",
    "Members:\n",
    "* Charles\n",
    "* Saba\n",
    "* Aayush\n",
    "* Akiko\n",
    "* Chrissy\n",
    "* Dan\n",
    "* Alice\n",
    "* Louis\n",
    "* Oak\n",
    "* Sayon\n",
    "* Anna\n",
    "* Harrison\n",
    "* Jaden\n",
    "* TBD : )"
   ]
  },
  {
   "cell_type": "markdown",
   "metadata": {},
   "source": []
  }
 ],
 "metadata": {
  "language_info": {
   "name": "python"
  }
 },
 "nbformat": 4,
 "nbformat_minor": 2
}
