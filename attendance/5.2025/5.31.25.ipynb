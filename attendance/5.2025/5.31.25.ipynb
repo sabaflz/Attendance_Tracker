{
 "cells": [
  {
   "cell_type": "markdown",
   "metadata": {},
   "source": [
    "# 5.31.25 (6:30 - 10:00)\n",
    "\n",
    "## LeetCode Weekly Contest\n",
    "### (Weekly Contest 452)\n",
    "\n",
    "Most completed Q1 and Q2.\n",
    "Aayush got Q3.\n",
    "\n",
    "List of questions:\n",
    "1. 3566. Partition Array into Two Equal Product Subsets\n",
    "2. 3567. Minimum Absolute Difference in Sliding Submatrix\n",
    "3. 3568. Minimum Moves to Clean the Classroom\n",
    "4. 3569. Maximize Count of Distinct Primes After Split\n",
    "\n",
    "Members:\n",
    "* Charles\n",
    "* Saba\n",
    "* Alice\n",
    "* Aayush\n",
    "* Tyler\n",
    "* Ferit\n",
    "* Begench\n",
    "* Dijkstra\n",
    "\n",
    "Honorable Mentions:\n",
    "Akiko joined online."
   ]
  },
  {
   "cell_type": "markdown",
   "metadata": {},
   "source": [
    "## :mega: Club LeetCode Contest & Social @Active Member  !!\n",
    "Hey everyone!\n",
    "\n",
    "It’s time for our sixth Club LeetCode Contest and Social! :tada:\n",
    "This is a fun, casual event where we get together, hang out, eat good food, and do a chill LeetCode contest as a club.\n",
    "\n",
    ":calendar_spiral: Date: Saturday, May 31th\n",
    ":clock6: Time: **6:30 – 10:00+ **\n",
    ":round_pushpin: Location: [Pizza Hy Heart (117 E San Carlos St, San Jose, CA 95112)](https://maps.app.goo.gl/pSWtQ3payTUgYNUN7)\n",
    "\n",
    "### The plan:\n",
    "- Dinner at Pizza My Heart.  :pizza:\n",
    "- Do a LeetCode contest and problem reviews. :computer:\n",
    "- Go to 946 billiards to have some fun! :8ball:\n",
    "\n",
    "Whether you're here to compete or just hang out and vibe with the club, we'd love to see you there. All skill levels are welcome!\n",
    "\n",
    "Feel free to have dinner beforehand, but the LeetCode contest itself starts at **7:30 PM**, so definitely show up before then!\n",
    "\n",
    "### Transportation:\n",
    "If you need a carpool, please meet up at the **Flint Parking Garage, 3rd floor, between 6:00 and 6:15**.\n",
    "\n",
    "To help us have an accurate head count, respond with:\n",
    "* :computer: = I’m coming!\n",
    "* :red_car: = I need/want a carpool\n",
    "* :first_place: = I can drive for carpool\n",
    "\n",
    "Feel free to ping me in #general for any questions!"
   ]
  }
 ],
 "metadata": {
  "language_info": {
   "name": "python"
  }
 },
 "nbformat": 4,
 "nbformat_minor": 2
}
