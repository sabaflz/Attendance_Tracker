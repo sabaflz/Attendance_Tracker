{
 "cells": [
  {
   "cell_type": "markdown",
   "metadata": {},
   "source": [
    "# 5.21.25 (3:00 - 5:15)\n",
    "\n",
    "## Club Meeting\n",
    "\n",
    "### Topics: \n",
    "\n",
    "For beginners:\n",
    "* Recursion\n",
    "* DP problems on CSES (Louis)\n",
    "\n",
    "\n",
    "For more advanced:\n",
    "* CSES trees (Charles)\n",
    "* Practiced working on explaining: (Aayush, Saba)\n",
    "    * Directed/Undirected Graph\n",
    "    * Self-loops\n",
    "    * Graph traversal:\n",
    "        * DFS/BFS\n",
    "    * Priority Queue\n",
    "    * Dijkstra\n",
    "\n",
    "Next Meeting:\n",
    "* Floyd Warshall\n",
    "* Topological Sort\n",
    "\n",
    "Notes:\n",
    "* prims\n",
    "* union finds\n",
    "* kruskal\n",
    "\n",
    "\n",
    "Members:\n",
    "* Charles\n",
    "* Saba\n",
    "* Louis\n",
    "* Aayush\n",
    "* TBD (Dijkstra?)\n",
    "* Tyler\n",
    "* Alice\n",
    "* Dan\n",
    "* Chrissy\n",
    "* Jaden\n",
    "* Oak\n",
    "* Sayon\n",
    "* Emily"
   ]
  },
  {
   "cell_type": "markdown",
   "metadata": {},
   "source": [
    "@Active Member \n",
    "Today’s club meeting will start at 3:00 PM in ATC 312.\n",
    "\n",
    "See you there!"
   ]
  }
 ],
 "metadata": {
  "language_info": {
   "name": "python"
  }
 },
 "nbformat": 4,
 "nbformat_minor": 2
}
