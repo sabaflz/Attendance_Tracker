{
 "cells": [
  {
   "cell_type": "markdown",
   "metadata": {},
   "source": [
    "# 5.13.25 (11:00 - 13:00)\n",
    "\n",
    "## Club Meeting\n",
    "\n",
    "### Topics:\n",
    "\n",
    "For beginners:\n",
    "* codingbat\n",
    "\n",
    "For more advanced:\n",
    "* Sarted working on DP problems on CSES.\n",
    "* Worked on LeetCode daily.\n",
    "(Akiko has a matrix multiplication solution)\n",
    "\n",
    "\n",
    "Members:\n",
    "* Charles\n",
    "* Saba\n",
    "* Ferit\n",
    "* Phonn\n",
    "* Ben\n",
    "* Tyler\n",
    "* Aarnav\n",
    "* Bruce\n",
    "* TBD : )"
   ]
  },
  {
   "cell_type": "markdown",
   "metadata": {},
   "source": []
  }
 ],
 "metadata": {
  "language_info": {
   "name": "python"
  }
 },
 "nbformat": 4,
 "nbformat_minor": 2
}
