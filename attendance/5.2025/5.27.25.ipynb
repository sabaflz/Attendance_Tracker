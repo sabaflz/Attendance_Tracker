{
 "cells": [
  {
   "cell_type": "markdown",
   "metadata": {},
   "source": [
    "# 5.27.25 (11:00 - 13:00)\n",
    "\n",
    "## Club Meeting\n",
    "\n",
    "### Topics:\n",
    "\n",
    "Club Meeting\n",
    "Topics:\n",
    "Binary Indexed Tree (BIT)/ Fenwick Tree\n",
    "\n",
    "\n",
    "Notes:\n",
    "- Solved [range sum query](https://leetcode.com/problems/range-sum-query-mutable/description/)\n",
    "- Extra [problem](https://leetcode.com/problems/count-of-smaller-numbers-after-self/description/)\n",
    "\n",
    "Members:\n",
    "* Charles\n",
    "* Tyler\n",
    "* Ben\n",
    "* Ferit\n",
    "* Tim\n",
    "* Dijkstra\n"
   ]
  },
  {
   "cell_type": "markdown",
   "metadata": {},
   "source": []
  },
  {
   "cell_type": "markdown",
   "metadata": {},
   "source": [
    "charles did this one\n"
   ]
  },
  {
   "cell_type": "markdown",
   "metadata": {},
   "source": []
  }
 ],
 "metadata": {
  "language_info": {
   "name": "python"
  }
 },
 "nbformat": 4,
 "nbformat_minor": 2
}
