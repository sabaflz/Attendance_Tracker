{
 "cells": [
  {
   "cell_type": "markdown",
   "metadata": {},
   "source": [
    "# 4.24.25 (6:00 - 10:00)\n",
    "\n",
    "## LeetCode Weekly Contest\n",
    "### (Weekly Contest 447)\n",
    "Almost everyone was able to complete Q1 and Q2.\n",
    "\n",
    "List of questions:\n",
    "1. 3531. Count Covered Buildings\n",
    "2. 3532. Path Existence Queries in a Graph I\n",
    "3. 3533. Concatenated Divisibility\n",
    "4. 3534. Path Existence Queries in a Graph II\n",
    "\n",
    "\n",
    "Notes for the next contest:\n",
    "* Try to find a better place for the contest. (Cane's was too crowded and the line was crazy)\n",
    "\n",
    "Members:\n",
    "* Charles\n",
    "* Saba\n",
    "* Bruce\n",
    "* Aayush\n",
    "* Sayon\n",
    "* Tyler\n",
    "\n",
    "Honorable mentions:\n",
    "* Jacob was late (I don't think he ended up doing the contest).\n",
    "* Mr. Fox did the contest remotely from Santa Clara University Library.\n",
    "* I think Peter Lynch also did the contest.\n",
    "\n",
    "[Picturs](https://discord.com/channels/1325580479625302098/1364790883974778961/1366101200344318034)"
   ]
  },
  {
   "cell_type": "markdown",
   "metadata": {},
   "source": []
  }
 ],
 "metadata": {
  "language_info": {
   "name": "python"
  }
 },
 "nbformat": 4,
 "nbformat_minor": 2
}
