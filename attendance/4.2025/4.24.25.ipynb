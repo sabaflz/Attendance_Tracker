{
 "cells": [
  {
   "cell_type": "markdown",
   "metadata": {},
   "source": [
    "# 4.24.25 (9:25 - 1:15)\n",
    "\n",
    "## Club Day (Main Quad)\n",
    "\n",
    "Great success.\n",
    "Used NFCs for our instagram.\n",
    "\n",
    "Note for the next event:\n",
    "* Find a way for people to easily find our Discord without having to go to our Instagram.\n",
    "(some people said they have/use Instagram)\n",
    "\n",
    "Members:\n",
    "* Saba\n",
    "* Oak\n",
    "* Charles\n",
    "* Akiko\n",
    "* Chrissy\n",
    "* Sayon\n",
    "* Jaden\n",
    "* Louis\n",
    "* Yusuf\n",
    "* Jacob\n",
    "* Ferit\n",
    "* Dan\n",
    "* Bruce\n",
    "\n",
    "[Pictures and videos](https://discord.com/channels/1325580479625302098/1364790883974778961/1365067573623918653)\n",
    "\n",
    "Notes:\n",
    "* Need to be more active on Instagram. Posting stories more often and ideally right after the event while people stil remember us : )"
   ]
  },
  {
   "cell_type": "markdown",
   "metadata": {},
   "source": []
  }
 ],
 "metadata": {
  "language_info": {
   "name": "python"
  }
 },
 "nbformat": 4,
 "nbformat_minor": 2
}
