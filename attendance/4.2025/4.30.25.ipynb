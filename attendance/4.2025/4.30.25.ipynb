{
 "cells": [
  {
   "cell_type": "markdown",
   "metadata": {},
   "source": [
    "# 4.30.25 (3:00 - 6:00)\n",
    "\n",
    "## Club Meeting (3:00 - 3:45)\n",
    "\n",
    "### Topics:\n",
    "Tried to optimize the LeetCode Daily.\n",
    "* [Using Multiples of 10](https://leetcode.com/problems/find-numbers-with-even-number-of-digits/submissions/1622338233)\n",
    "* [Interesting Approach: (Binary Search Inspired)](https://leetcode.com/problems/find-numbers-with-even-number-of-digits/submissions/1622334158)\n",
    "\n",
    "\n",
    "Members:\n",
    "* Charles\n",
    "* Saba\n",
    "* Tyler\n",
    "* Bruce\n",
    "* Alice\n",
    "\n",
    "## Speaker Event (4:05 - 6:00)\n",
    "Speaker: Shahin Saadati\n",
    "### Topics:\n",
    "* Review of the last session (The Interview Process)\n",
    "* Answering the following questions:\n",
    "    * “How do you use AI at Google?”\n",
    "        * Any real-world projects you’ve worked on\n",
    "        * How teams decide when AI is the right tool\n",
    "        * What tools or platforms are most common\n",
    "        * How you approach ethical considerations like bias or privacy\n",
    "* Honorable Mentions:\n",
    "    * Vertex AI\n",
    "\n",
    "* [Interview questions for session 2](https://discord.com/channels/1325580479625302098/1364790883974778961/1367609919317999646)\n",
    "\n",
    "* [poster and QR code for the speaker event](https://discord.com/channels/1325580479625302098/1364790883974778961/1367610628830920766)"
   ]
  },
  {
   "cell_type": "markdown",
   "metadata": {},
   "source": []
  }
 ],
 "metadata": {
  "language_info": {
   "name": "python"
  }
 },
 "nbformat": 4,
 "nbformat_minor": 2
}
