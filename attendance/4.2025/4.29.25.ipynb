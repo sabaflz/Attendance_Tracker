{
 "cells": [
  {
   "cell_type": "markdown",
   "metadata": {},
   "source": [
    "# 4.29.25 (11:00 - 13:00)\n",
    "\n",
    "## Club Meeting\n",
    "\n",
    "### Topics:\n",
    "Sorting and Priority Queues\n",
    "(Merge, Counting)\n",
    "\n",
    "For beginners:\n",
    "* Introduction to Arrays, Vectors, and Sorting.\n",
    "(we had more new members joining us)\n",
    "\n",
    "focus was on Merge sort and its implementation.\n",
    "\n",
    "\n",
    "For more advanced:\n",
    "* Implement Merge Sort, priority Queue\n",
    "(Review of Heaps)\n",
    "Focus was on priority Queue and its implementation.\n",
    "\n",
    "Some people did the LeedCode Daily as well : )\n",
    "\n",
    "Members:\n",
    "* Charles\n",
    "* Saba\n",
    "* Salvador\n",
    "* Louis\n",
    "* Suhaib\n",
    "* Ferit\n",
    "* Ben\n",
    "* Tim\n",
    "* Tyler\n",
    "* Kijun\n",
    "* Sebastian\n",
    "* Bethy\n",
    "* Sayon\n",
    "\n",
    "\n",
    "\n",
    "\n"
   ]
  },
  {
   "cell_type": "markdown",
   "metadata": {},
   "source": []
  }
 ],
 "metadata": {
  "language_info": {
   "name": "python"
  }
 },
 "nbformat": 4,
 "nbformat_minor": 2
}
