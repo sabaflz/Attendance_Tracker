{
 "cells": [
  {
   "cell_type": "markdown",
   "metadata": {},
   "source": [
    "# 4.21.25 (3:00 - 5:30)\n",
    "\n",
    "## Club Meeting\n",
    "\n",
    "### Topics:\n",
    "For beginners:\n",
    "* Stacks and Queues\n",
    "\n",
    "For more advanced:\n",
    "* The Sieve of Eratosthenes\n",
    "* Monotonic Stacks\n",
    "\n",
    "Members:\n",
    "* Dan\n",
    "* Aayush\n",
    "* Akiko\n",
    "* Chrissy\n",
    "* Saba\n",
    "* Charles\n",
    "* Talha\n",
    "* Jaden\n",
    "* Kijun\n",
    "* Swan\n",
    "* Sayon\n",
    "* Oak\n",
    "* Buyan"
   ]
  },
  {
   "cell_type": "markdown",
   "metadata": {},
   "source": []
  }
 ],
 "metadata": {
  "language_info": {
   "name": "python"
  }
 },
 "nbformat": 4,
 "nbformat_minor": 2
}
