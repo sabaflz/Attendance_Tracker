{
 "cells": [
  {
   "cell_type": "markdown",
   "metadata": {},
   "source": [
    "# 4.22.25 (11:00 - 13:00)\n",
    "\n",
    "## Club Meeting\n",
    "\n",
    "### Topics:\n",
    "Continuation of yesterday +\n",
    "For beginners:\n",
    "* Linked Lists\n",
    "\n",
    "For more advanced:\n",
    "* Reverse Linked List 1 and 2\n",
    "\n",
    "Members:\n",
    "* Saba\n",
    "* Charles\n",
    "* Suhaib\n",
    "* Ferit\n",
    "* Salvador\n",
    "* Louis\n",
    "* Riwa\n",
    "* Akiko\n",
    "* Jaden\n",
    "* Sayon\n",
    "* Oak\n",
    "* Phonn\n",
    "\n"
   ]
  },
  {
   "cell_type": "markdown",
   "metadata": {},
   "source": []
  }
 ],
 "metadata": {
  "language_info": {
   "name": "python"
  }
 },
 "nbformat": 4,
 "nbformat_minor": 2
}
