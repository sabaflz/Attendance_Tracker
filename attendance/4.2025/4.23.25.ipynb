{
 "cells": [
  {
   "cell_type": "markdown",
   "metadata": {},
   "source": [
    "# 4.23.25 (3:00 - 3:45)\n",
    "\n",
    "## Club Meeting\n",
    "\n",
    "### Topics:\n",
    "LeetCode Daily:\n",
    "(1399. Count Largest Group)\n",
    "* Charles\n",
    "* Dan\n",
    "* Saba\n",
    "\n",
    "## Speacker Event (4:00 - 5:00)\n",
    "Speaker : Shahin Saadati\n",
    "### Topics:\n",
    "Interview Process (5 steps):\n",
    "1. Clarification\n",
    "2. Outlining\n",
    "3. Coding\n",
    "4. Testing\n",
    "5. Analysis\n",
    "\n",
    "Worked on [sample Google interview questions](https://discord.com/channels/1325580479625302098/1364790883974778961/1364791393234452491)."
   ]
  },
  {
   "cell_type": "markdown",
   "metadata": {},
   "source": []
  }
 ],
 "metadata": {
  "language_info": {
   "name": "python"
  }
 },
 "nbformat": 4,
 "nbformat_minor": 2
}
