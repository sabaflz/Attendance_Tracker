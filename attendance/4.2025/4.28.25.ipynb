{
 "cells": [
  {
   "cell_type": "markdown",
   "metadata": {},
   "source": [
    "# 4.28.25 (3:00 - 5:45)\n",
    "\n",
    "## Club Meeting\n",
    "\n",
    "### Topics:\n",
    "Sorting and Priority Queues\n",
    "(Bubble, Insertion, Merge)\n",
    "\n",
    "For beginners:\n",
    "* Introduction to Arrays, Vectors, and Sorting.\n",
    "(since we had new members joining us)\n",
    "\n",
    "focus was on bubble sort and its implementation.\n",
    "\n",
    "\n",
    "For more advanced:\n",
    "Implement Merge Sort, priority Queue\n",
    "(Review of Heaps)\n",
    "Focus was on Merge sort and its implementation.\n",
    "People who finished Merge Sort, worked on Priority Queues.\n",
    "\n",
    "Members:\n",
    "* Charles\n",
    "* Saba\n",
    "* Oak\n",
    "* Dan\n",
    "* Louis\n",
    "* Sayon\n",
    "* Sinchana\n",
    "* Anna\n",
    "* Jaden\n",
    "* Swan\n",
    "* Alice\n"
   ]
  },
  {
   "cell_type": "markdown",
   "metadata": {},
   "source": []
  }
 ],
 "metadata": {
  "language_info": {
   "name": "python"
  }
 },
 "nbformat": 4,
 "nbformat_minor": 2
}
